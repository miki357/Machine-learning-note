{
 "cells": [
  {
   "cell_type": "markdown",
   "metadata": {},
   "source": [
    "## CH2\n",
    "## APPLICATIONS OF MACHINE LEARNING TO ECONOMICS AND FINANCE"
   ]
  },
  {
   "cell_type": "code",
   "execution_count": null,
   "metadata": {},
   "outputs": [],
   "source": [
    "% autosave 120"
   ]
  },
  {
   "cell_type": "markdown",
   "metadata": {},
   "source": [
    "### if Statements 條件敘述\n",
    "`if condition:\n",
    "    statement(s)`\n",
    "    \n",
    "[Note]\n",
    "1. 條件後要加`:`\n",
    "2. 敘述要內縮, 常用四個空格"
   ]
  },
  {
   "cell_type": "markdown",
   "metadata": {},
   "source": [
    "### if, elif, else Statements 條件敘述\n",
    "`if condition1:\n",
    "    statement1\n",
    " elif condition2:\n",
    "    statement2\n",
    " elif condition3:\n",
    "    statement3\n",
    " ...\n",
    " else:\n",
    "    statement(n+1)`\n",
    "\n"
   ]
  },
  {
   "cell_type": "code",
   "execution_count": null,
   "metadata": {},
   "outputs": [],
   "source": [
    "score = eval(input(\"請輸入總成績....\"))\n",
    "#eval() 函數用來執行一個字符串表達式，並返回表達式的值。\n",
    "\n",
    "if score >= 90:\n",
    "    print('A')\n",
    "elif (score >= 80) and (score  < 90) :\n",
    "    print('B')\n",
    "elif (score >= 70) and (score < 80) :\n",
    "    print('C')\n",
    "elif   (score >= 60) and (score < 70):\n",
    "    print('D')\n",
    "else:\n",
    "    print('E')"
   ]
  },
  {
   "cell_type": "markdown",
   "metadata": {},
   "source": [
    "#### range()\n",
    "* range(n), 從0到n-1\n",
    "* range(initial value, end value, step value) <br/>\n",
    "  從initial value到end value間隔step value, step預設為1, step為1時可以不輸入"
   ]
  },
  {
   "cell_type": "code",
   "execution_count": null,
   "metadata": {},
   "outputs": [],
   "source": [
    "seq = [1,2,3,4,5]\n",
    "for i in range(len(seq)):\n",
    "    print(seq[i])"
   ]
  },
  {
   "cell_type": "markdown",
   "metadata": {
    "colab_type": "text",
    "id": "9JPxMYl2MnwC"
   },
   "source": [
    "### for 迴圈敘述\n",
    "`for var in range(initial value, end value, step value):\n",
    "    statement1\n",
    " [else:\n",
    "    statement2]` \n",
    "    \n",
    "* 也可以加elif"
   ]
  },
  {
   "cell_type": "code",
   "execution_count": null,
   "metadata": {},
   "outputs": [],
   "source": [
    "for i in range(5):\n",
    "    print(i)"
   ]
  },
  {
   "cell_type": "code",
   "execution_count": null,
   "metadata": {},
   "outputs": [],
   "source": [
    "for k in seq:\n",
    "    print(k)"
   ]
  },
  {
   "cell_type": "code",
   "execution_count": null,
   "metadata": {},
   "outputs": [],
   "source": [
    "print('九九乘法表......\\n')  #\\n式空行\n",
    "for i in range(1,10):\n",
    "    print ('\\n\\n'+str(i)+'...\\n')\n",
    "    for j in range(1,10):\n",
    "        num=i*j\n",
    "        print(str(i)+'*'+str(j)+'='+str(num))\n",
    "print('\\n 執行完畢...\\n')"
   ]
  },
  {
   "cell_type": "markdown",
   "metadata": {},
   "source": [
    "* [Note]\n",
    "a += b 就相当于 a = a + b"
   ]
  },
  {
   "cell_type": "markdown",
   "metadata": {},
   "source": [
    "### while 迴圈敘述\n",
    "`while condition:\n",
    "    statement1\n",
    " [else:\n",
    "    statement2]`"
   ]
  },
  {
   "cell_type": "code",
   "execution_count": null,
   "metadata": {},
   "outputs": [],
   "source": [
    "i = 1\n",
    "while (i < 5):\n",
    "    print('i is: {}'.format(i))\n",
    "    i += 1  "
   ]
  },
  {
   "cell_type": "code",
   "execution_count": null,
   "metadata": {},
   "outputs": [],
   "source": [
    "i = 0\n",
    "while True:\n",
    "    i += 1  \n",
    "    if i == 10: \n",
    "        continue         #不判斷而是回到迴圈, 執行下一個數字\n",
    "    elif i == 15:\n",
    "        break            #強制停止迴圈\n",
    "    print('i is: {}'.format(i))"
   ]
  },
  {
   "cell_type": "markdown",
   "metadata": {},
   "source": [
    "### functions 使用者函數\n",
    "`def functionName (parameter1, parameter2, parameter3...):\n",
    "    statements\n",
    "    [return / return value]`\n",
    "* parameter 參數\n",
    "\n",
    "[Note]:\n",
    "1. def列的最後要加`:`\n",
    "2. 執行內容要縮排, 常用四個空格\n",
    "3. 函式被呼叫才會執行，\n",
    "4. 函式可以沒有參數或多個參數。當函式有多個參數時，參數有順序上的關係，參數的個數及順序均不能弄錯, 如果沒有依照定義函數時的參數順序填入, 填入參數時必須指明參數名稱。有預設值的參數要放在最後, 呼叫時有預設值的參數不一定要填"
   ]
  },
  {
   "cell_type": "code",
   "execution_count": null,
   "metadata": {},
   "outputs": [],
   "source": [
    "# return, 函數執行完後回傳內容\n",
    "def square(x):\n",
    "    return x**2\n",
    "outcome = square(2)\n",
    "outcome"
   ]
  },
  {
   "cell_type": "code",
   "execution_count": null,
   "metadata": {},
   "outputs": [],
   "source": [
    "# random 隨機數函式\n",
    "import random"
   ]
  },
  {
   "cell_type": "code",
   "execution_count": null,
   "metadata": {},
   "outputs": [],
   "source": [
    "'''\n",
    "Dosctring goes here\n",
    "利用隨機樹函式設計遊戲'''\n",
    "again = 'Y'\n",
    "while (again == 'Y' or again == 'y'):\n",
    "    player = eval(input('請問你出什麼拳(1是剪刀, 2是石頭, 3是布)?'))\n",
    "    computer = random.randint(1,3) \n",
    "    print ('隨機數是' + str(computer))\n",
    "    if (player ==1):\n",
    "        if (computer ==1):\n",
    "            print ('你是剪刀, 電腦是剪刀 ... 平手!')\n",
    "        if (computer ==2):\n",
    "            print ('你是剪刀, 電腦是石頭 ... 電腦贏!')\n",
    "        if (computer ==3):\n",
    "            print ('你是剪刀, 電腦是布 ... 你贏!')\n",
    "    if (player ==2):\n",
    "        if (computer ==1):\n",
    "            print ('你是石頭, 電腦是剪刀 ... 你贏!')\n",
    "        if (computer ==2):\n",
    "            print ('你是石頭, 電腦是石頭 ... 平手!')\n",
    "        if (computer ==3):\n",
    "            print ('你是石頭, 電腦是布 ... 電腦贏!')\n",
    "    if (player ==3):\n",
    "        if (computer ==1):\n",
    "            print ('你是布, 電腦是剪刀 ... 電腦贏!')\n",
    "        if (computer ==2):\n",
    "            print ('你是布, 電腦是石頭 ... 你贏!')\n",
    "        if (computer ==3):\n",
    "            print ('你是布, 電腦是布 ... 平手!')\n",
    "    print('\\n')\n",
    "    again = input ('要繼續玩嗎(Y/N)?')"
   ]
  },
  {
   "cell_type": "markdown",
   "metadata": {},
   "source": [
    "## Exercises\n",
    "1. You are driving a little too fast, and a police officer stops you. <br/>\n",
    "   Write a function to return one of 3 possible results: <br/> \n",
    "   \"No ticket\", \"Small ticket\", or \"Big Ticket\".\n",
    "  \n",
    "   - If your speed is 60 or less, the result is \"No Ticket\". \n",
    "   - If speed is between 61 and 80 inclusive, the result is \"Small Ticket\". \n",
    "   - If speed is 81 or more, the result is \"Big Ticket\". \n",
    "\n",
    "   Unless it is your birthday (encoded as a boolean value in the parameters of the function) -- on your birthday, your speed can be 5 higher in all cases."
   ]
  },
  {
   "cell_type": "code",
   "execution_count": 27,
   "metadata": {},
   "outputs": [],
   "source": [
    "def speed_cases(speed,is_birthday):\n",
    "    if is_birthday:\n",
    "        speed -= 5\n",
    "        if speed <= 60: \n",
    "            return 'No Ticket'\n",
    "        elif (speed > 61) & (speed <= 80):\n",
    "            return 'Small Ticket'\n",
    "        else:\n",
    "            return 'Big Ticket'\n",
    "    else:\n",
    "        if speed <= 60:\n",
    "            return 'No Ticket'\n",
    "        elif (speed > 61) & (speed <= 80):\n",
    "            return 'Small Ticket'\n",
    "        else:\n",
    "            return 'Big Ticket'"
   ]
  },
  {
   "cell_type": "code",
   "execution_count": 30,
   "metadata": {},
   "outputs": [
    {
     "name": "stdout",
     "output_type": "stream",
     "text": [
      "Small Ticket\n"
     ]
    }
   ],
   "source": [
    "speed = 65\n",
    "is_birthday = False   #今天不是生日\n",
    "print(speed_cases(speed,is_birthday))"
   ]
  },
  {
   "cell_type": "code",
   "execution_count": 31,
   "metadata": {},
   "outputs": [
    {
     "name": "stdout",
     "output_type": "stream",
     "text": [
      "No Ticket\n"
     ]
    }
   ],
   "source": [
    "speed = 65\n",
    "is_birthday = True  #今天是生日\n",
    "print(speed_cases(speed,is_birthday))"
   ]
  },
  {
   "cell_type": "markdown",
   "metadata": {
    "colab_type": "text",
    "id": "ijSTl-RrMnw2"
   },
   "source": [
    "2. 寫一個函數isPrime, 參數n, 判n是不是質數, 如果是回傳True, 不是回傳False"
   ]
  },
  {
   "cell_type": "code",
   "execution_count": null,
   "metadata": {},
   "outputs": [],
   "source": [
    "def isprime(n):\n",
    "    for i in range(2,n):\n",
    "        if n % i == 0:\n",
    "            return False\n",
    "    return True\n",
    "\n",
    "n = int(input('輸入一個正整數:'))\n",
    "\n",
    "if isprime(n):\n",
    "    print('True')\n",
    "else:\n",
    "    print('False')"
   ]
  },
  {
   "cell_type": "markdown",
   "metadata": {
    "colab": {},
    "colab_type": "code",
    "id": "QbKTx_MtMnw3",
    "outputId": "d334319c-c6f4-45da-97c4-751dd4f8df30"
   },
   "source": [
    "3.要求使用者輸入密碼, 並將使用者輸入的密碼儲存於password識別字中, 判斷密碼是否等於<1234>    \n",
    "        - 如果密碼是<1234>, 就顯示\"你輸入的密碼正確\"\n",
    "        - 如果密碼不是<1234>, 就顯示\"你輸入的密碼錯誤\""
   ]
  },
  {
   "cell_type": "code",
   "execution_count": null,
   "metadata": {},
   "outputs": [],
   "source": [
    "password=input('what is your password?')\n",
    "if password == '1234':\n",
    "    print(\"你輸入的密碼正確\")\n",
    "else:\n",
    "    print(\"你輸入的密碼錯誤\")"
   ]
  },
  {
   "cell_type": "code",
   "execution_count": null,
   "metadata": {},
   "outputs": [],
   "source": []
  },
  {
   "cell_type": "code",
   "execution_count": null,
   "metadata": {},
   "outputs": [],
   "source": []
  }
 ],
 "metadata": {
  "kernelspec": {
   "display_name": "Python 3",
   "language": "python",
   "name": "python3"
  },
  "language_info": {
   "codemirror_mode": {
    "name": "ipython",
    "version": 3
   },
   "file_extension": ".py",
   "mimetype": "text/x-python",
   "name": "python",
   "nbconvert_exporter": "python",
   "pygments_lexer": "ipython3",
   "version": "3.6.4"
  }
 },
 "nbformat": 4,
 "nbformat_minor": 2
}
